{
 "cells": [
  {
   "cell_type": "code",
   "execution_count": 2,
   "id": "39a5b1cf-26d9-4970-8315-37761da834e2",
   "metadata": {
    "tags": []
   },
   "outputs": [
    {
     "name": "stdout",
     "output_type": "stream",
     "text": [
      "p, .jp-RenderedHTMLCommon p {\n",
      "  font-family: \"Times New Roman\"\n",
      "}\n",
      "\n"
     ]
    },
    {
     "data": {
      "text/html": [
       "<style>p, .jp-RenderedHTMLCommon p {\n",
       "  font-family: \"Times New Roman\"\n",
       "}\n",
       "</style>"
      ],
      "text/plain": [
       "<IPython.core.display.HTML object>"
      ]
     },
     "execution_count": 2,
     "metadata": {},
     "output_type": "execute_result"
    }
   ],
   "source": [
    "from IPython.display import HTML\n",
    "from urllib.request import urlopen\n",
    "print(urlopen(\"https://raw.githubusercontent.com/idenproject/public/main/jupyterstyle.css\").read().decode('utf-8'))\n",
    "HTML('<style>'+urlopen(\"https://raw.githubusercontent.com/idenproject/public/main/jupyterstyle.css\").read().decode('utf-8')+'</style>')"
   ]
  },
  {
   "cell_type": "markdown",
   "id": "d0e2b80d-9418-4b2b-bdf4-97485269776d",
   "metadata": {},
   "source": [
    "A diamond is placed at the corner of a 3 wall room (0,0,0) 6m x 6m x 6m\n",
    "\n",
    "\n",
    "   z\n",
    "\n",
    "   0    y\n",
    "x\n",
    "\n",
    "\n",
    "Two laser camera move around randomly on xOz and yOz, straight line to 2 different points on xOy\n",
    "\n",
    "These 4 points form a laser barrier protecting the diamond\n",
    "\n",
    "The log server room has data on some laser fragments of previous camera positions, but not the complete log due to your team's failed hacking attempt.\n",
    "\n",
    "The only way to break through the barrier is to place a special device at exactly the 2 points on xOy, which will absorb the laser without sounding the alarm.\n",
    "\n",
    "Right now the barrier is at its closest to the diamond, so you can plant the devices. \n",
    "\n",
    "Your team's hacker cannot fully turn off the camera, but has planted a virus that causes its next iteration to be at the MOST LIKELY position. The issue is, they don't have the historical data. Luckily, you have sneaked into the log server to steal these data, but you cannot get in contact with your team - the comm's been jammed.\n",
    "\n",
    "You have 1 hour to work out the coordinates of the 2 points to plant the device\n",
    "\n",
    "\n",
    "--- \n"
   ]
  },
  {
   "cell_type": "code",
   "execution_count": null,
   "id": "61679694-2cf3-4896-9211-0f74b63ef887",
   "metadata": {},
   "outputs": [],
   "source": []
  }
 ],
 "metadata": {
  "kernelspec": {
   "display_name": "Python 3",
   "language": "python",
   "name": "python3"
  },
  "language_info": {
   "codemirror_mode": {
    "name": "ipython",
    "version": 3
   },
   "file_extension": ".py",
   "mimetype": "text/x-python",
   "name": "python",
   "nbconvert_exporter": "python",
   "pygments_lexer": "ipython3",
   "version": "3.8.5"
  }
 },
 "nbformat": 4,
 "nbformat_minor": 5
}
